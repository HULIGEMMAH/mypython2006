{
  "nbformat": 4,
  "nbformat_minor": 0,
  "metadata": {
    "colab": {
      "provenance": []
    },
    "kernelspec": {
      "name": "python3",
      "display_name": "Python 3"
    },
    "language_info": {
      "name": "python"
    }
  },
  "cells": [
    {
      "cell_type": "code",
      "execution_count": null,
      "metadata": {
        "id": "se93cLgznjyb"
      },
      "outputs": [],
      "source": [
        "n1=float(input(\"enter first number:\"))\n",
        "n2=float(input(\"enter second number:\"))\n",
        "operation=(input(\"enter operation(+,-,*,/):\"))\n",
        "if operation==\"+\":\n",
        "  print(n1+n2)\n",
        "elif operation==\"-\":\n",
        "  print(n1-n2)\n",
        "elif operation==\"*\":\n",
        "  print(n1*n2)\n",
        "elif operation==\"/\":\n",
        "  print(n1/n2)\n",
        "else:\n",
        "  print(\"invalid operation\")"
      ]
    }
  ]
}